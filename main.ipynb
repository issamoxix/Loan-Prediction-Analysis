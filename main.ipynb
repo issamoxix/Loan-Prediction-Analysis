{
 "cells": [
  {
   "cell_type": "code",
   "execution_count": 1,
   "source": [
    "import pandas as pd \r\n",
    "import matplotlib.pyplot as plt"
   ],
   "outputs": [],
   "metadata": {}
  },
  {
   "cell_type": "code",
   "execution_count": 2,
   "source": [
    "df = pd.read_csv('Training Data.csv')"
   ],
   "outputs": [],
   "metadata": {}
  },
  {
   "cell_type": "code",
   "execution_count": 3,
   "source": [
    "import numpy as np"
   ],
   "outputs": [],
   "metadata": {}
  },
  {
   "cell_type": "code",
   "execution_count": 4,
   "source": [
    "df = df[df['STATE']!= \"Uttar_Pradesh[5]\"]"
   ],
   "outputs": [],
   "metadata": {}
  },
  {
   "cell_type": "code",
   "execution_count": 5,
   "source": [
    "df.describe()"
   ],
   "outputs": [
    {
     "output_type": "execute_result",
     "data": {
      "text/html": [
       "<div>\n",
       "<style scoped>\n",
       "    .dataframe tbody tr th:only-of-type {\n",
       "        vertical-align: middle;\n",
       "    }\n",
       "\n",
       "    .dataframe tbody tr th {\n",
       "        vertical-align: top;\n",
       "    }\n",
       "\n",
       "    .dataframe thead th {\n",
       "        text-align: right;\n",
       "    }\n",
       "</style>\n",
       "<table border=\"1\" class=\"dataframe\">\n",
       "  <thead>\n",
       "    <tr style=\"text-align: right;\">\n",
       "      <th></th>\n",
       "      <th>Id</th>\n",
       "      <th>Income</th>\n",
       "      <th>Age</th>\n",
       "      <th>Experience</th>\n",
       "      <th>CURRENT_JOB_YRS</th>\n",
       "      <th>CURRENT_HOUSE_YRS</th>\n",
       "      <th>Risk_Flag</th>\n",
       "    </tr>\n",
       "  </thead>\n",
       "  <tbody>\n",
       "    <tr>\n",
       "      <th>count</th>\n",
       "      <td>251257.000000</td>\n",
       "      <td>2.512570e+05</td>\n",
       "      <td>251257.000000</td>\n",
       "      <td>251257.000000</td>\n",
       "      <td>251257.000000</td>\n",
       "      <td>251257.000000</td>\n",
       "      <td>251257.000000</td>\n",
       "    </tr>\n",
       "    <tr>\n",
       "      <th>mean</th>\n",
       "      <td>125988.200468</td>\n",
       "      <td>4.999036e+06</td>\n",
       "      <td>49.963838</td>\n",
       "      <td>10.085988</td>\n",
       "      <td>6.335035</td>\n",
       "      <td>11.997628</td>\n",
       "      <td>0.122978</td>\n",
       "    </tr>\n",
       "    <tr>\n",
       "      <th>std</th>\n",
       "      <td>72740.884598</td>\n",
       "      <td>2.878263e+06</td>\n",
       "      <td>17.055859</td>\n",
       "      <td>6.003394</td>\n",
       "      <td>3.648636</td>\n",
       "      <td>1.399003</td>\n",
       "      <td>0.328412</td>\n",
       "    </tr>\n",
       "    <tr>\n",
       "      <th>min</th>\n",
       "      <td>1.000000</td>\n",
       "      <td>1.031000e+04</td>\n",
       "      <td>21.000000</td>\n",
       "      <td>0.000000</td>\n",
       "      <td>0.000000</td>\n",
       "      <td>10.000000</td>\n",
       "      <td>0.000000</td>\n",
       "    </tr>\n",
       "    <tr>\n",
       "      <th>25%</th>\n",
       "      <td>62994.000000</td>\n",
       "      <td>2.506726e+06</td>\n",
       "      <td>35.000000</td>\n",
       "      <td>5.000000</td>\n",
       "      <td>3.000000</td>\n",
       "      <td>11.000000</td>\n",
       "      <td>0.000000</td>\n",
       "    </tr>\n",
       "    <tr>\n",
       "      <th>50%</th>\n",
       "      <td>125984.000000</td>\n",
       "      <td>5.002101e+06</td>\n",
       "      <td>50.000000</td>\n",
       "      <td>10.000000</td>\n",
       "      <td>6.000000</td>\n",
       "      <td>12.000000</td>\n",
       "      <td>0.000000</td>\n",
       "    </tr>\n",
       "    <tr>\n",
       "      <th>75%</th>\n",
       "      <td>188979.000000</td>\n",
       "      <td>7.478707e+06</td>\n",
       "      <td>65.000000</td>\n",
       "      <td>15.000000</td>\n",
       "      <td>9.000000</td>\n",
       "      <td>13.000000</td>\n",
       "      <td>0.000000</td>\n",
       "    </tr>\n",
       "    <tr>\n",
       "      <th>max</th>\n",
       "      <td>252000.000000</td>\n",
       "      <td>9.999938e+06</td>\n",
       "      <td>79.000000</td>\n",
       "      <td>20.000000</td>\n",
       "      <td>14.000000</td>\n",
       "      <td>14.000000</td>\n",
       "      <td>1.000000</td>\n",
       "    </tr>\n",
       "  </tbody>\n",
       "</table>\n",
       "</div>"
      ],
      "text/plain": [
       "                  Id        Income            Age     Experience  \\\n",
       "count  251257.000000  2.512570e+05  251257.000000  251257.000000   \n",
       "mean   125988.200468  4.999036e+06      49.963838      10.085988   \n",
       "std     72740.884598  2.878263e+06      17.055859       6.003394   \n",
       "min         1.000000  1.031000e+04      21.000000       0.000000   \n",
       "25%     62994.000000  2.506726e+06      35.000000       5.000000   \n",
       "50%    125984.000000  5.002101e+06      50.000000      10.000000   \n",
       "75%    188979.000000  7.478707e+06      65.000000      15.000000   \n",
       "max    252000.000000  9.999938e+06      79.000000      20.000000   \n",
       "\n",
       "       CURRENT_JOB_YRS  CURRENT_HOUSE_YRS      Risk_Flag  \n",
       "count    251257.000000      251257.000000  251257.000000  \n",
       "mean          6.335035          11.997628       0.122978  \n",
       "std           3.648636           1.399003       0.328412  \n",
       "min           0.000000          10.000000       0.000000  \n",
       "25%           3.000000          11.000000       0.000000  \n",
       "50%           6.000000          12.000000       0.000000  \n",
       "75%           9.000000          13.000000       0.000000  \n",
       "max          14.000000          14.000000       1.000000  "
      ]
     },
     "metadata": {},
     "execution_count": 5
    }
   ],
   "metadata": {}
  },
  {
   "cell_type": "markdown",
   "source": [
    "## In the graph below it Show that Uttar Pradesh have the highest amount of data"
   ],
   "metadata": {}
  },
  {
   "cell_type": "code",
   "execution_count": 6,
   "source": [
    "state_group = df.groupby('STATE')\r\n",
    "Age = state_group.count()['Age']\r\n",
    "\r\n",
    "keys = [pair for pair,x in state_group]\r\n",
    "plt.bar(keys,Age)\r\n",
    "plt.xticks(rotation=\"vertical\")\r\n",
    "plt.show()"
   ],
   "outputs": [
    {
     "output_type": "display_data",
     "data": {
      "image/png": "[encoded data removed]",
      "text/plain": [
       "<Figure size 432x288 with 1 Axes>"
      ]
     },
     "metadata": {
      "needs_background": "light"
     }
    }
   ],
   "metadata": {}
  },
  {
   "cell_type": "code",
   "execution_count": 74,
   "source": [
    "df.STATE.unique()"
   ],
   "outputs": [
    {
     "output_type": "execute_result",
     "data": {
      "text/plain": [
       "array(['Madhya_Pradesh', 'Maharashtra', 'Kerala', 'Odisha', 'Tamil_Nadu',\n",
       "       'Gujarat', 'Rajasthan', 'Telangana', 'Bihar', 'Andhra_Pradesh',\n",
       "       'West_Bengal', 'Haryana', 'Puducherry', 'Karnataka',\n",
       "       'Uttar_Pradesh', 'Himachal_Pradesh', 'Punjab', 'Tripura',\n",
       "       'Uttarakhand', 'Jharkhand', 'Mizoram', 'Assam',\n",
       "       'Jammu_and_Kashmir', 'Delhi', 'Chhattisgarh', 'Chandigarh',\n",
       "       'Manipur', 'Sikkim'], dtype=object)"
      ]
     },
     "metadata": {},
     "execution_count": 74
    }
   ],
   "metadata": {}
  },
  {
   "cell_type": "code",
   "execution_count": 75,
   "source": [
    "utrah_df = df[df['STATE'] == 'Uttar_Pradesh']\r\n",
    "assam_df = df[df['STATE'] == 'Assam']"
   ],
   "outputs": [],
   "metadata": {}
  },
  {
   "cell_type": "markdown",
   "source": [
    "#  Feature Eng"
   ],
   "metadata": {}
  },
  {
   "cell_type": "code",
   "execution_count": 25,
   "source": [
    "#adding the owned and single rows\r\n",
    "df['owned'] = df['House_Ownership'].map(lambda x: 1 if x == 'owned' else 0) \r\n",
    "df['single'] = df['Married/Single'].map(lambda x: 1 if x == 'single' else 0) "
   ],
   "outputs": [],
   "metadata": {}
  },
  {
   "cell_type": "code",
   "execution_count": 35,
   "source": [
    "#Thinking to add Scientifique field and Eng etc Proffesions\r\n",
    "df.Profession.unique()"
   ],
   "outputs": [
    {
     "output_type": "execute_result",
     "data": {
      "text/plain": [
       "array(['Mechanical_engineer', 'Software_Developer', 'Technical_writer',\n",
       "       'Civil_servant', 'Librarian', 'Economist', 'Flight_attendant',\n",
       "       'Architect', 'Designer', 'Physician', 'Financial_Analyst',\n",
       "       'Air_traffic_controller', 'Politician', 'Police_officer', 'Artist',\n",
       "       'Surveyor', 'Design_Engineer', 'Chemical_engineer',\n",
       "       'Hotel_Manager', 'Dentist', 'Comedian', 'Biomedical_Engineer',\n",
       "       'Graphic_Designer', 'Computer_hardware_engineer',\n",
       "       'Petroleum_Engineer', 'Secretary', 'Computer_operator',\n",
       "       'Chartered_Accountant', 'Technician', 'Microbiologist',\n",
       "       'Fashion_Designer', 'Aviator', 'Psychologist', 'Magistrate',\n",
       "       'Lawyer', 'Firefighter', 'Engineer', 'Official', 'Analyst',\n",
       "       'Geologist', 'Drafter', 'Statistician', 'Web_designer',\n",
       "       'Consultant', 'Chef', 'Army_officer', 'Surgeon', 'Scientist',\n",
       "       'Civil_engineer', 'Industrial_Engineer', 'Technology_specialist'],\n",
       "      dtype=object)"
      ]
     },
     "metadata": {},
     "execution_count": 35
    }
   ],
   "metadata": {}
  },
  {
   "cell_type": "code",
   "execution_count": 68,
   "source": [
    "# df.groupby('Profession')['Profession','Risk_Flag'].sum()\r\n",
    "#this bar graph below shows us that the banks dont take Professions into consideration \r\n",
    "#since that every field and sectors have Risk Flags = 1 \r\n",
    "width = 0.55\r\n",
    "Professions = df.groupby('Profession')\r\n",
    "UProfessions = utrah_df.groupby('Profession')\r\n",
    "RFlag = Professions.sum()['Risk_Flag']\r\n",
    "URFlag = UProfessions.sum()['Risk_Flag']\r\n",
    "UPkeys = [par for par ,x in UProfessions]\r\n",
    "Pkeys = [par for par ,x in Professions]\r\n",
    "plt.bar(Pkeys,RFlag,width = width, edgecolor = 'black',color=\"g\",label=\"ALL STATES\")\r\n",
    "plt.bar(UPkeys,URFlag,width = width, edgecolor = 'black',color=\"b\",label=\"In Utrah\")\r\n",
    "plt.title('Number of Risk Flags')\r\n",
    "plt.xticks(rotation='vertical')\r\n",
    "plt.legend()\r\n",
    "\r\n",
    "plt.show()"
   ],
   "outputs": [
    {
     "output_type": "display_data",
     "data": {
      "image/png": "[encoded data removed]",
      "text/plain": [
       "<Figure size 432x288 with 1 Axes>"
      ]
     },
     "metadata": {
      "needs_background": "light"
     }
    }
   ],
   "metadata": {}
  },
  {
   "cell_type": "code",
   "execution_count": 71,
   "source": [
    "plt.bar(UPkeys,URFlag,width = width, edgecolor = 'black',color=\"b\",label=\"In Utrah\")\r\n",
    "plt.xticks(rotation='vertical')\r\n",
    "plt.title('Risk Flags in Utrah by profession')\r\n",
    "plt.show()"
   ],
   "outputs": [
    {
     "output_type": "display_data",
     "data": {
      "image/png": "[encoded data removed]",
      "text/plain": [
       "<Figure size 432x288 with 1 Axes>"
      ]
     },
     "metadata": {
      "needs_background": "light"
     }
    }
   ],
   "metadata": {}
  },
  {
   "cell_type": "code",
   "execution_count": 185,
   "source": [
    "assGR = assam_df.groupby('Profession')\r\n",
    "def getData(tuple):\r\n",
    "    return tuple[1]\r\n",
    "def ReturnPProf(GR):\r\n",
    "    bag = []\r\n",
    "    for l,i in GR:\r\n",
    "        if i['Risk_Flag'].sum() <= 1:\r\n",
    "            bag.append((l,i['Risk_Flag'].sum()))\r\n",
    "        continue\r\n",
    "    bag.sort(key=getData)\r\n",
    "    return bag[:4]"
   ],
   "outputs": [],
   "metadata": {}
  },
  {
   "cell_type": "code",
   "execution_count": 186,
   "source": [
    "#ill try to get all the high profile Professions \r\n",
    "#by calculatin the Risk in every Profession for every State\r\n",
    "#looping thru all the states and getting the fist lowest 20 Risk rate in Professions \r\n",
    "#and i will create there own Row\r\n",
    "import numpy as np\r\n",
    "def GetHighProff():\r\n",
    "    high_pprof = []\r\n",
    "    states = df.STATE.unique()\r\n",
    "    for i in states:\r\n",
    "        grouped_data = df[df['STATE'] == i].groupby('Profession')\r\n",
    "        high_pprof.append(ReturnPProf(grouped_data))\r\n",
    "    return high_pprof\r\n",
    "\r\n",
    "def MergeALL(arr):\r\n",
    "    All_profs = []\r\n",
    "    for i in arr:\r\n",
    "        for r in i:\r\n",
    "            if r[0] in All_profs:\r\n",
    "                continue\r\n",
    "            All_profs.append(r[0])\r\n",
    "    return All_profs\r\n",
    "cleaned_arr = MergeALL(GetHighProff())"
   ],
   "outputs": [],
   "metadata": {}
  },
  {
   "cell_type": "code",
   "execution_count": 187,
   "source": [
    "df['highProf'] = df['Profession'].map(lambda x: 1 if x in cleaned_arr else 0 )"
   ],
   "outputs": [],
   "metadata": {}
  },
  {
   "cell_type": "code",
   "execution_count": 188,
   "source": [
    "len(cleaned_arr)"
   ],
   "outputs": [
    {
     "output_type": "execute_result",
     "data": {
      "text/plain": [
       "24"
      ]
     },
     "metadata": {},
     "execution_count": 188
    }
   ],
   "metadata": {}
  },
  {
   "cell_type": "code",
   "execution_count": 189,
   "source": [
    "df.head()"
   ],
   "outputs": [
    {
     "output_type": "execute_result",
     "data": {
      "text/html": [
       "<div>\n",
       "<style scoped>\n",
       "    .dataframe tbody tr th:only-of-type {\n",
       "        vertical-align: middle;\n",
       "    }\n",
       "\n",
       "    .dataframe tbody tr th {\n",
       "        vertical-align: top;\n",
       "    }\n",
       "\n",
       "    .dataframe thead th {\n",
       "        text-align: right;\n",
       "    }\n",
       "</style>\n",
       "<table border=\"1\" class=\"dataframe\">\n",
       "  <thead>\n",
       "    <tr style=\"text-align: right;\">\n",
       "      <th></th>\n",
       "      <th>Id</th>\n",
       "      <th>Income</th>\n",
       "      <th>Age</th>\n",
       "      <th>Experience</th>\n",
       "      <th>Married/Single</th>\n",
       "      <th>House_Ownership</th>\n",
       "      <th>Car_Ownership</th>\n",
       "      <th>Profession</th>\n",
       "      <th>CITY</th>\n",
       "      <th>STATE</th>\n",
       "      <th>CURRENT_JOB_YRS</th>\n",
       "      <th>CURRENT_HOUSE_YRS</th>\n",
       "      <th>Risk_Flag</th>\n",
       "      <th>owned</th>\n",
       "      <th>single</th>\n",
       "      <th>highProf</th>\n",
       "    </tr>\n",
       "  </thead>\n",
       "  <tbody>\n",
       "    <tr>\n",
       "      <th>0</th>\n",
       "      <td>1</td>\n",
       "      <td>1303834</td>\n",
       "      <td>23</td>\n",
       "      <td>3</td>\n",
       "      <td>single</td>\n",
       "      <td>rented</td>\n",
       "      <td>no</td>\n",
       "      <td>Mechanical_engineer</td>\n",
       "      <td>Rewa</td>\n",
       "      <td>Madhya_Pradesh</td>\n",
       "      <td>3</td>\n",
       "      <td>13</td>\n",
       "      <td>0</td>\n",
       "      <td>0</td>\n",
       "      <td>1</td>\n",
       "      <td>0</td>\n",
       "    </tr>\n",
       "    <tr>\n",
       "      <th>1</th>\n",
       "      <td>2</td>\n",
       "      <td>7574516</td>\n",
       "      <td>40</td>\n",
       "      <td>10</td>\n",
       "      <td>single</td>\n",
       "      <td>rented</td>\n",
       "      <td>no</td>\n",
       "      <td>Software_Developer</td>\n",
       "      <td>Parbhani</td>\n",
       "      <td>Maharashtra</td>\n",
       "      <td>9</td>\n",
       "      <td>13</td>\n",
       "      <td>0</td>\n",
       "      <td>0</td>\n",
       "      <td>1</td>\n",
       "      <td>0</td>\n",
       "    </tr>\n",
       "    <tr>\n",
       "      <th>2</th>\n",
       "      <td>3</td>\n",
       "      <td>3991815</td>\n",
       "      <td>66</td>\n",
       "      <td>4</td>\n",
       "      <td>married</td>\n",
       "      <td>rented</td>\n",
       "      <td>no</td>\n",
       "      <td>Technical_writer</td>\n",
       "      <td>Alappuzha</td>\n",
       "      <td>Kerala</td>\n",
       "      <td>4</td>\n",
       "      <td>10</td>\n",
       "      <td>0</td>\n",
       "      <td>0</td>\n",
       "      <td>0</td>\n",
       "      <td>0</td>\n",
       "    </tr>\n",
       "    <tr>\n",
       "      <th>3</th>\n",
       "      <td>4</td>\n",
       "      <td>6256451</td>\n",
       "      <td>41</td>\n",
       "      <td>2</td>\n",
       "      <td>single</td>\n",
       "      <td>rented</td>\n",
       "      <td>yes</td>\n",
       "      <td>Software_Developer</td>\n",
       "      <td>Bhubaneswar</td>\n",
       "      <td>Odisha</td>\n",
       "      <td>2</td>\n",
       "      <td>12</td>\n",
       "      <td>1</td>\n",
       "      <td>0</td>\n",
       "      <td>1</td>\n",
       "      <td>0</td>\n",
       "    </tr>\n",
       "    <tr>\n",
       "      <th>4</th>\n",
       "      <td>5</td>\n",
       "      <td>5768871</td>\n",
       "      <td>47</td>\n",
       "      <td>11</td>\n",
       "      <td>single</td>\n",
       "      <td>rented</td>\n",
       "      <td>no</td>\n",
       "      <td>Civil_servant</td>\n",
       "      <td>Tiruchirappalli[10]</td>\n",
       "      <td>Tamil_Nadu</td>\n",
       "      <td>3</td>\n",
       "      <td>14</td>\n",
       "      <td>1</td>\n",
       "      <td>0</td>\n",
       "      <td>1</td>\n",
       "      <td>1</td>\n",
       "    </tr>\n",
       "  </tbody>\n",
       "</table>\n",
       "</div>"
      ],
      "text/plain": [
       "   Id   Income  Age  Experience Married/Single House_Ownership Car_Ownership  \\\n",
       "0   1  1303834   23           3         single          rented            no   \n",
       "1   2  7574516   40          10         single          rented            no   \n",
       "2   3  3991815   66           4        married          rented            no   \n",
       "3   4  6256451   41           2         single          rented           yes   \n",
       "4   5  5768871   47          11         single          rented            no   \n",
       "\n",
       "            Profession                 CITY           STATE  CURRENT_JOB_YRS  \\\n",
       "0  Mechanical_engineer                 Rewa  Madhya_Pradesh                3   \n",
       "1   Software_Developer             Parbhani     Maharashtra                9   \n",
       "2     Technical_writer            Alappuzha          Kerala                4   \n",
       "3   Software_Developer          Bhubaneswar          Odisha                2   \n",
       "4        Civil_servant  Tiruchirappalli[10]      Tamil_Nadu                3   \n",
       "\n",
       "   CURRENT_HOUSE_YRS  Risk_Flag  owned  single  highProf  \n",
       "0                 13          0      0       1         0  \n",
       "1                 13          0      0       1         0  \n",
       "2                 10          0      0       0         0  \n",
       "3                 12          1      0       1         0  \n",
       "4                 14          1      0       1         1  "
      ]
     },
     "metadata": {},
     "execution_count": 189
    }
   ],
   "metadata": {}
  },
  {
   "cell_type": "code",
   "execution_count": 190,
   "source": [
    "df.corr()"
   ],
   "outputs": [
    {
     "output_type": "execute_result",
     "data": {
      "text/html": [
       "<div>\n",
       "<style scoped>\n",
       "    .dataframe tbody tr th:only-of-type {\n",
       "        vertical-align: middle;\n",
       "    }\n",
       "\n",
       "    .dataframe tbody tr th {\n",
       "        vertical-align: top;\n",
       "    }\n",
       "\n",
       "    .dataframe thead th {\n",
       "        text-align: right;\n",
       "    }\n",
       "</style>\n",
       "<table border=\"1\" class=\"dataframe\">\n",
       "  <thead>\n",
       "    <tr style=\"text-align: right;\">\n",
       "      <th></th>\n",
       "      <th>Id</th>\n",
       "      <th>Income</th>\n",
       "      <th>Age</th>\n",
       "      <th>Experience</th>\n",
       "      <th>CURRENT_JOB_YRS</th>\n",
       "      <th>CURRENT_HOUSE_YRS</th>\n",
       "      <th>Risk_Flag</th>\n",
       "      <th>owned</th>\n",
       "      <th>single</th>\n",
       "      <th>highProf</th>\n",
       "    </tr>\n",
       "  </thead>\n",
       "  <tbody>\n",
       "    <tr>\n",
       "      <th>Id</th>\n",
       "      <td>1.000000</td>\n",
       "      <td>-0.001314</td>\n",
       "      <td>-0.001787</td>\n",
       "      <td>-0.005905</td>\n",
       "      <td>-0.003466</td>\n",
       "      <td>0.002069</td>\n",
       "      <td>0.032030</td>\n",
       "      <td>0.001874</td>\n",
       "      <td>0.000817</td>\n",
       "      <td>0.002574</td>\n",
       "    </tr>\n",
       "    <tr>\n",
       "      <th>Income</th>\n",
       "      <td>-0.001314</td>\n",
       "      <td>1.000000</td>\n",
       "      <td>-0.001416</td>\n",
       "      <td>0.005925</td>\n",
       "      <td>0.006480</td>\n",
       "      <td>-0.002138</td>\n",
       "      <td>-0.003788</td>\n",
       "      <td>0.001533</td>\n",
       "      <td>0.001777</td>\n",
       "      <td>0.010890</td>\n",
       "    </tr>\n",
       "    <tr>\n",
       "      <th>Age</th>\n",
       "      <td>-0.001787</td>\n",
       "      <td>-0.001416</td>\n",
       "      <td>1.000000</td>\n",
       "      <td>0.000294</td>\n",
       "      <td>0.003070</td>\n",
       "      <td>-0.020173</td>\n",
       "      <td>-0.022827</td>\n",
       "      <td>0.019211</td>\n",
       "      <td>-0.004144</td>\n",
       "      <td>-0.009848</td>\n",
       "    </tr>\n",
       "    <tr>\n",
       "      <th>Experience</th>\n",
       "      <td>-0.005905</td>\n",
       "      <td>0.005925</td>\n",
       "      <td>0.000294</td>\n",
       "      <td>1.000000</td>\n",
       "      <td>0.646340</td>\n",
       "      <td>0.019687</td>\n",
       "      <td>-0.034362</td>\n",
       "      <td>0.014728</td>\n",
       "      <td>-0.002071</td>\n",
       "      <td>0.005735</td>\n",
       "    </tr>\n",
       "    <tr>\n",
       "      <th>CURRENT_JOB_YRS</th>\n",
       "      <td>-0.003466</td>\n",
       "      <td>0.006480</td>\n",
       "      <td>0.003070</td>\n",
       "      <td>0.646340</td>\n",
       "      <td>1.000000</td>\n",
       "      <td>0.005031</td>\n",
       "      <td>-0.016877</td>\n",
       "      <td>0.007789</td>\n",
       "      <td>0.003553</td>\n",
       "      <td>0.001986</td>\n",
       "    </tr>\n",
       "    <tr>\n",
       "      <th>CURRENT_HOUSE_YRS</th>\n",
       "      <td>0.002069</td>\n",
       "      <td>-0.002138</td>\n",
       "      <td>-0.020173</td>\n",
       "      <td>0.019687</td>\n",
       "      <td>0.005031</td>\n",
       "      <td>1.000000</td>\n",
       "      <td>-0.003870</td>\n",
       "      <td>0.015170</td>\n",
       "      <td>-0.008409</td>\n",
       "      <td>-0.010277</td>\n",
       "    </tr>\n",
       "    <tr>\n",
       "      <th>Risk_Flag</th>\n",
       "      <td>0.032030</td>\n",
       "      <td>-0.003788</td>\n",
       "      <td>-0.022827</td>\n",
       "      <td>-0.034362</td>\n",
       "      <td>-0.016877</td>\n",
       "      <td>-0.003870</td>\n",
       "      <td>1.000000</td>\n",
       "      <td>-0.023348</td>\n",
       "      <td>0.021306</td>\n",
       "      <td>0.010486</td>\n",
       "    </tr>\n",
       "    <tr>\n",
       "      <th>owned</th>\n",
       "      <td>0.001874</td>\n",
       "      <td>0.001533</td>\n",
       "      <td>0.019211</td>\n",
       "      <td>0.014728</td>\n",
       "      <td>0.007789</td>\n",
       "      <td>0.015170</td>\n",
       "      <td>-0.023348</td>\n",
       "      <td>1.000000</td>\n",
       "      <td>0.023214</td>\n",
       "      <td>-0.007987</td>\n",
       "    </tr>\n",
       "    <tr>\n",
       "      <th>single</th>\n",
       "      <td>0.000817</td>\n",
       "      <td>0.001777</td>\n",
       "      <td>-0.004144</td>\n",
       "      <td>-0.002071</td>\n",
       "      <td>0.003553</td>\n",
       "      <td>-0.008409</td>\n",
       "      <td>0.021306</td>\n",
       "      <td>0.023214</td>\n",
       "      <td>1.000000</td>\n",
       "      <td>0.006389</td>\n",
       "    </tr>\n",
       "    <tr>\n",
       "      <th>highProf</th>\n",
       "      <td>0.002574</td>\n",
       "      <td>0.010890</td>\n",
       "      <td>-0.009848</td>\n",
       "      <td>0.005735</td>\n",
       "      <td>0.001986</td>\n",
       "      <td>-0.010277</td>\n",
       "      <td>0.010486</td>\n",
       "      <td>-0.007987</td>\n",
       "      <td>0.006389</td>\n",
       "      <td>1.000000</td>\n",
       "    </tr>\n",
       "  </tbody>\n",
       "</table>\n",
       "</div>"
      ],
      "text/plain": [
       "                         Id    Income       Age  Experience  CURRENT_JOB_YRS  \\\n",
       "Id                 1.000000 -0.001314 -0.001787   -0.005905        -0.003466   \n",
       "Income            -0.001314  1.000000 -0.001416    0.005925         0.006480   \n",
       "Age               -0.001787 -0.001416  1.000000    0.000294         0.003070   \n",
       "Experience        -0.005905  0.005925  0.000294    1.000000         0.646340   \n",
       "CURRENT_JOB_YRS   -0.003466  0.006480  0.003070    0.646340         1.000000   \n",
       "CURRENT_HOUSE_YRS  0.002069 -0.002138 -0.020173    0.019687         0.005031   \n",
       "Risk_Flag          0.032030 -0.003788 -0.022827   -0.034362        -0.016877   \n",
       "owned              0.001874  0.001533  0.019211    0.014728         0.007789   \n",
       "single             0.000817  0.001777 -0.004144   -0.002071         0.003553   \n",
       "highProf           0.002574  0.010890 -0.009848    0.005735         0.001986   \n",
       "\n",
       "                   CURRENT_HOUSE_YRS  Risk_Flag     owned    single  highProf  \n",
       "Id                          0.002069   0.032030  0.001874  0.000817  0.002574  \n",
       "Income                     -0.002138  -0.003788  0.001533  0.001777  0.010890  \n",
       "Age                        -0.020173  -0.022827  0.019211 -0.004144 -0.009848  \n",
       "Experience                  0.019687  -0.034362  0.014728 -0.002071  0.005735  \n",
       "CURRENT_JOB_YRS             0.005031  -0.016877  0.007789  0.003553  0.001986  \n",
       "CURRENT_HOUSE_YRS           1.000000  -0.003870  0.015170 -0.008409 -0.010277  \n",
       "Risk_Flag                  -0.003870   1.000000 -0.023348  0.021306  0.010486  \n",
       "owned                       0.015170  -0.023348  1.000000  0.023214 -0.007987  \n",
       "single                     -0.008409   0.021306  0.023214  1.000000  0.006389  \n",
       "highProf                   -0.010277   0.010486 -0.007987  0.006389  1.000000  "
      ]
     },
     "metadata": {},
     "execution_count": 190
    }
   ],
   "metadata": {}
  },
  {
   "cell_type": "code",
   "execution_count": null,
   "source": [],
   "outputs": [],
   "metadata": {}
  }
 ],
 "metadata": {
  "orig_nbformat": 4,
  "language_info": {
   "name": "python",
   "version": "3.9.2",
   "mimetype": "text/x-python",
   "codemirror_mode": {
    "name": "ipython",
    "version": 3
   },
   "pygments_lexer": "ipython3",
   "nbconvert_exporter": "python",
   "file_extension": ".py"
  },
  "kernelspec": {
   "name": "python3",
   "display_name": "Python 3.9.2 64-bit"
  },
  "interpreter": {
   "hash": "d075ff4378217f0e2c4eb2bf79b00e44abbc28f13543981b175c82dcc20caa48"
  }
 },
 "nbformat": 4,
 "nbformat_minor": 2
}